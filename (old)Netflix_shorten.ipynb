{
 "cells": [
  {
   "cell_type": "code",
   "execution_count": 13,
   "metadata": {},
   "outputs": [],
   "source": [
    "import pandas as pd\n",
    "import numpy as np\n",
    "pd.set_option('display.max_rows', None)\n",
    "enef = pd.read_csv(\"netflix_titles.csv\")\n",
    "enef = enef.loc[(enef['type'] == 'Movie')]"
   ]
  },
  {
   "cell_type": "code",
   "execution_count": 14,
   "metadata": {},
   "outputs": [],
   "source": [
    "enef['duration'] = enef['duration'].str.replace(' min', '')\n",
    "enef.to_csv('enef_final.csv')"
   ]
  },
  {
   "cell_type": "code",
   "execution_count": 15,
   "metadata": {},
   "outputs": [
    {
     "name": "stdout",
     "output_type": "stream",
     "text": [
      "----\n",
      "show_id     1\n",
      "cast        1\n",
      "duration    1\n",
      "dtype: int64\n",
      "----\n",
      "10\n"
     ]
    }
   ],
   "source": [
    "netflix = enef[~enef['cast'].isnull()]\n",
    "nf_cropped = netflix[['show_id','title', 'cast', 'duration']]\n",
    "nf_cropped = nf_cropped.set_index(['title'])\n",
    "nf_head = nf_cropped[0:1] #running from 0 to 3905 (not efficient -> watch Netflix_shorten_correct)\n",
    "print('----')\n",
    "print(nf_head.count())\n",
    "print('----')\n",
    "#print(nf_head)\n",
    "nf_head = nf_head.stack()\n",
    "\n",
    "nf_head = nf_head.str.split(',', expand=True)\n",
    "\n",
    "nf_head = nf_head.stack()\n",
    "#nf_head = nf_head.head(2000)\n",
    "\n",
    "nf_head = nf_head.unstack(-2)\n",
    "\n",
    "nf_head = nf_head.reset_index(-1, drop = True)\n",
    "\n",
    "nf_head = nf_head.reset_index()\n",
    "print(nf_head.cast.count())\n",
    "#nf_head.to_csv('nf_croppedTwo.csv')\n",
    "nf_head.to_csv('(old)nf_cropped.csv', mode = 'a', header = False)"
   ]
  },
  {
   "cell_type": "markdown",
   "metadata": {},
   "source": [
    "#not working as expected\n",
    "\n",
    "nf_head = nf_head.unstack(-2)\n",
    "\n",
    "nf_head = nf_head.reset_index(-1, drop = True)\n",
    "\n",
    "nf_head = nf_head.reset_index()\n",
    "#nf_head.to_csv('nf_cropped.csv')\n",
    "nf_head.to_csv('nf_cropped.csv', mode = 'a', header = False)"
   ]
  },
  {
   "cell_type": "code",
   "execution_count": null,
   "metadata": {},
   "outputs": [],
   "source": []
  }
 ],
 "metadata": {
  "kernelspec": {
   "display_name": "Python 3",
   "language": "python",
   "name": "python3"
  },
  "language_info": {
   "codemirror_mode": {
    "name": "ipython",
    "version": 3
   },
   "file_extension": ".py",
   "mimetype": "text/x-python",
   "name": "python",
   "nbconvert_exporter": "python",
   "pygments_lexer": "ipython3",
   "version": "3.7.6"
  }
 },
 "nbformat": 4,
 "nbformat_minor": 4
}
