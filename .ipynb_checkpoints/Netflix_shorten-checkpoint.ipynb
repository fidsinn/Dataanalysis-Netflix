{
 "cells": [
  {
   "cell_type": "code",
   "execution_count": 109,
   "metadata": {},
   "outputs": [],
   "source": [
    "import pandas as pd\n",
    "import numpy as np\n",
    "from itertools import chain\n",
    "pd.set_option('display.max_rows', 20)\n",
    "nf_all = pd.read_csv(\"netflix_titles.csv\") #reading csvfile"
   ]
  },
  {
   "cell_type": "code",
   "execution_count": 110,
   "metadata": {},
   "outputs": [
    {
     "name": "stderr",
     "output_type": "stream",
     "text": [
      "/Users/finn/opt/anaconda3/lib/python3.7/site-packages/ipykernel_launcher.py:3: SettingWithCopyWarning: \n",
      "A value is trying to be set on a copy of a slice from a DataFrame.\n",
      "Try using .loc[row_indexer,col_indexer] = value instead\n",
      "\n",
      "See the caveats in the documentation: https://pandas.pydata.org/pandas-docs/stable/user_guide/indexing.html#returning-a-view-versus-a-copy\n",
      "  This is separate from the ipykernel package so we can avoid doing imports until\n"
     ]
    }
   ],
   "source": [
    "#modifying dataframe: Only movies, change duration (x min) -> (x), save to file (needed for avg(duration))\n",
    "nf_movies = nf_all.loc[(nf_all['type'] == 'Movie')]\n",
    "nf_movies['duration'] = nf_movies['duration'].str.replace(' min', '')\n",
    "nf_movies.to_csv('enef_final.csv')"
   ]
  },
  {
   "cell_type": "code",
   "execution_count": 111,
   "metadata": {},
   "outputs": [
    {
     "data": {
      "text/plain": [
       "cast    3905\n",
       "dtype: int64"
      ]
     },
     "execution_count": 111,
     "metadata": {},
     "output_type": "execute_result"
    }
   ],
   "source": [
    "# modifying dataframe: Get movies with cast != null, reduce columns, set title as index\n",
    "nf_movies_cast = nf_movies[~nf_movies['cast'].isnull()]\n",
    "nf_movies_cast_cropped = nf_movies_cast[['show_id', 'cast']]\n",
    "nf_movies_cast_cropped = nf_movies_cast_cropped\n",
    "nf_movies_cast_cropped_i = nf_movies_cast_cropped.set_index(['show_id'])\n",
    "nf2 = nf_movies_cast_cropped_i #count is at 3905\n",
    "nf2.count()"
   ]
  },
  {
   "cell_type": "code",
   "execution_count": 112,
   "metadata": {},
   "outputs": [
    {
     "data": {
      "text/plain": [
       "show_id       \n",
       "81145628  cast    Alan Marriott, Andrew Toth, Brian Dobson, Cole...\n",
       "80117401  cast                                     Jandino Asporaat\n",
       "80125979  cast    Nesta Cooper, Kate Walsh, John Michael Higgins...\n",
       "70304989  cast    Antonio Banderas, Dylan McDermott, Melanie Gri...\n",
       "80164077  cast                                      Fabrizio Copano\n",
       "                                        ...                        \n",
       "80104237  cast    Alan Sabbagh, Julieta Zylberberg, Usher Barilk...\n",
       "80093107  cast    Mario Casas, Luis Tosar, José Sacristán, Claud...\n",
       "80085439  cast    Rene Russo, Oliver Platt, Johnny Simmons, Jane...\n",
       "80011846  cast                                        Allen Iverson\n",
       "80064521  cast                                         Jeremy Scott\n",
       "Length: 3905, dtype: object"
      ]
     },
     "execution_count": 112,
     "metadata": {},
     "output_type": "execute_result"
    }
   ],
   "source": [
    "nf2.stack()"
   ]
  },
  {
   "cell_type": "code",
   "execution_count": 113,
   "metadata": {},
   "outputs": [
    {
     "data": {
      "text/html": [
       "<div>\n",
       "<style scoped>\n",
       "    .dataframe tbody tr th:only-of-type {\n",
       "        vertical-align: middle;\n",
       "    }\n",
       "\n",
       "    .dataframe tbody tr th {\n",
       "        vertical-align: top;\n",
       "    }\n",
       "\n",
       "    .dataframe thead th {\n",
       "        text-align: right;\n",
       "    }\n",
       "</style>\n",
       "<table border=\"1\" class=\"dataframe\">\n",
       "  <thead>\n",
       "    <tr style=\"text-align: right;\">\n",
       "      <th></th>\n",
       "      <th>show_id</th>\n",
       "      <th>cast</th>\n",
       "    </tr>\n",
       "  </thead>\n",
       "  <tbody>\n",
       "    <tr>\n",
       "      <th>0</th>\n",
       "      <td>81145628</td>\n",
       "      <td>Alan Marriott, Andrew Toth, Brian Dobson, Cole...</td>\n",
       "    </tr>\n",
       "    <tr>\n",
       "      <th>1</th>\n",
       "      <td>80117401</td>\n",
       "      <td>Jandino Asporaat</td>\n",
       "    </tr>\n",
       "    <tr>\n",
       "      <th>4</th>\n",
       "      <td>80125979</td>\n",
       "      <td>Nesta Cooper, Kate Walsh, John Michael Higgins...</td>\n",
       "    </tr>\n",
       "    <tr>\n",
       "      <th>6</th>\n",
       "      <td>70304989</td>\n",
       "      <td>Antonio Banderas, Dylan McDermott, Melanie Gri...</td>\n",
       "    </tr>\n",
       "    <tr>\n",
       "      <th>7</th>\n",
       "      <td>80164077</td>\n",
       "      <td>Fabrizio Copano</td>\n",
       "    </tr>\n",
       "    <tr>\n",
       "      <th>...</th>\n",
       "      <td>...</td>\n",
       "      <td>...</td>\n",
       "    </tr>\n",
       "    <tr>\n",
       "      <th>5574</th>\n",
       "      <td>80104237</td>\n",
       "      <td>Alan Sabbagh, Julieta Zylberberg, Usher Barilk...</td>\n",
       "    </tr>\n",
       "    <tr>\n",
       "      <th>5575</th>\n",
       "      <td>80093107</td>\n",
       "      <td>Mario Casas, Luis Tosar, José Sacristán, Claud...</td>\n",
       "    </tr>\n",
       "    <tr>\n",
       "      <th>5578</th>\n",
       "      <td>80085439</td>\n",
       "      <td>Rene Russo, Oliver Platt, Johnny Simmons, Jane...</td>\n",
       "    </tr>\n",
       "    <tr>\n",
       "      <th>5579</th>\n",
       "      <td>80011846</td>\n",
       "      <td>Allen Iverson</td>\n",
       "    </tr>\n",
       "    <tr>\n",
       "      <th>5580</th>\n",
       "      <td>80064521</td>\n",
       "      <td>Jeremy Scott</td>\n",
       "    </tr>\n",
       "  </tbody>\n",
       "</table>\n",
       "<p>3905 rows × 2 columns</p>\n",
       "</div>"
      ],
      "text/plain": [
       "       show_id                                               cast\n",
       "0     81145628  Alan Marriott, Andrew Toth, Brian Dobson, Cole...\n",
       "1     80117401                                   Jandino Asporaat\n",
       "4     80125979  Nesta Cooper, Kate Walsh, John Michael Higgins...\n",
       "6     70304989  Antonio Banderas, Dylan McDermott, Melanie Gri...\n",
       "7     80164077                                    Fabrizio Copano\n",
       "...        ...                                                ...\n",
       "5574  80104237  Alan Sabbagh, Julieta Zylberberg, Usher Barilk...\n",
       "5575  80093107  Mario Casas, Luis Tosar, José Sacristán, Claud...\n",
       "5578  80085439  Rene Russo, Oliver Platt, Johnny Simmons, Jane...\n",
       "5579  80011846                                      Allen Iverson\n",
       "5580  80064521                                       Jeremy Scott\n",
       "\n",
       "[3905 rows x 2 columns]"
      ]
     },
     "execution_count": 113,
     "metadata": {},
     "output_type": "execute_result"
    }
   ],
   "source": [
    "nf_movies_cast_cropped"
   ]
  },
  {
   "cell_type": "code",
   "execution_count": 114,
   "metadata": {},
   "outputs": [
    {
     "data": {
      "text/html": [
       "<div>\n",
       "<style scoped>\n",
       "    .dataframe tbody tr th:only-of-type {\n",
       "        vertical-align: middle;\n",
       "    }\n",
       "\n",
       "    .dataframe tbody tr th {\n",
       "        vertical-align: top;\n",
       "    }\n",
       "\n",
       "    .dataframe thead th {\n",
       "        text-align: right;\n",
       "    }\n",
       "</style>\n",
       "<table border=\"1\" class=\"dataframe\">\n",
       "  <thead>\n",
       "    <tr style=\"text-align: right;\">\n",
       "      <th></th>\n",
       "      <th>show_id</th>\n",
       "      <th>cast</th>\n",
       "    </tr>\n",
       "  </thead>\n",
       "  <tbody>\n",
       "    <tr>\n",
       "      <th>0</th>\n",
       "      <td>81145628</td>\n",
       "      <td>Alan Marriott</td>\n",
       "    </tr>\n",
       "    <tr>\n",
       "      <th>0</th>\n",
       "      <td>81145628</td>\n",
       "      <td>Andrew Toth</td>\n",
       "    </tr>\n",
       "    <tr>\n",
       "      <th>0</th>\n",
       "      <td>81145628</td>\n",
       "      <td>Brian Dobson</td>\n",
       "    </tr>\n",
       "    <tr>\n",
       "      <th>0</th>\n",
       "      <td>81145628</td>\n",
       "      <td>Cole Howard</td>\n",
       "    </tr>\n",
       "    <tr>\n",
       "      <th>0</th>\n",
       "      <td>81145628</td>\n",
       "      <td>Jennifer Cameron</td>\n",
       "    </tr>\n",
       "    <tr>\n",
       "      <th>...</th>\n",
       "      <td>...</td>\n",
       "      <td>...</td>\n",
       "    </tr>\n",
       "    <tr>\n",
       "      <th>5578</th>\n",
       "      <td>80085439</td>\n",
       "      <td>Ron Myles</td>\n",
       "    </tr>\n",
       "    <tr>\n",
       "      <th>5578</th>\n",
       "      <td>80085439</td>\n",
       "      <td>Jessica Garrison</td>\n",
       "    </tr>\n",
       "    <tr>\n",
       "      <th>5578</th>\n",
       "      <td>80085439</td>\n",
       "      <td>Fabianne Therese</td>\n",
       "    </tr>\n",
       "    <tr>\n",
       "      <th>5579</th>\n",
       "      <td>80011846</td>\n",
       "      <td>Allen Iverson</td>\n",
       "    </tr>\n",
       "    <tr>\n",
       "      <th>5580</th>\n",
       "      <td>80064521</td>\n",
       "      <td>Jeremy Scott</td>\n",
       "    </tr>\n",
       "  </tbody>\n",
       "</table>\n",
       "<p>29722 rows × 2 columns</p>\n",
       "</div>"
      ],
      "text/plain": [
       "       show_id              cast\n",
       "0     81145628     Alan Marriott\n",
       "0     81145628       Andrew Toth\n",
       "0     81145628      Brian Dobson\n",
       "0     81145628       Cole Howard\n",
       "0     81145628  Jennifer Cameron\n",
       "...        ...               ...\n",
       "5578  80085439         Ron Myles\n",
       "5578  80085439  Jessica Garrison\n",
       "5578  80085439  Fabianne Therese\n",
       "5579  80011846     Allen Iverson\n",
       "5580  80064521      Jeremy Scott\n",
       "\n",
       "[29722 rows x 2 columns]"
      ]
     },
     "execution_count": 114,
     "metadata": {},
     "output_type": "execute_result"
    }
   ],
   "source": [
    "def chainer(s):\n",
    "    return list(chain.from_iterable(s.str.split(', ')))\n",
    "lens = nf_movies_cast_cropped['cast'].str.split(', ').map(len)\n",
    "res = pd.DataFrame({'show_id': np.repeat(nf_movies_cast_cropped['show_id'], lens),\n",
    "                    'cast': chainer(nf_movies_cast_cropped['cast'])})\n",
    "res"
   ]
  },
  {
   "cell_type": "code",
   "execution_count": 115,
   "metadata": {},
   "outputs": [
    {
     "data": {
      "text/plain": [
       "cast       7.611268\n",
       "show_id         NaN\n",
       "dtype: float64"
      ]
     },
     "execution_count": 115,
     "metadata": {},
     "output_type": "execute_result"
    }
   ],
   "source": [
    "res.count() / nf2.count()"
   ]
  },
  {
   "cell_type": "code",
   "execution_count": null,
   "metadata": {},
   "outputs": [],
   "source": []
  }
 ],
 "metadata": {
  "kernelspec": {
   "display_name": "Python 3",
   "language": "python",
   "name": "python3"
  },
  "language_info": {
   "codemirror_mode": {
    "name": "ipython",
    "version": 3
   },
   "file_extension": ".py",
   "mimetype": "text/x-python",
   "name": "python",
   "nbconvert_exporter": "python",
   "pygments_lexer": "ipython3",
   "version": "3.7.6"
  }
 },
 "nbformat": 4,
 "nbformat_minor": 4
}
